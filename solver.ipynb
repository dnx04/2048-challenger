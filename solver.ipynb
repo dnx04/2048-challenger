{
 "cells": [
  {
   "cell_type": "markdown",
   "metadata": {},
   "source": [
    "# [2048 Challenge](http://112.137.129.136:8000/problem_view?problem=1)"
   ]
  },
  {
   "cell_type": "code",
   "execution_count": 91,
   "metadata": {},
   "outputs": [],
   "source": [
    "import numpy as np\n",
    "import random\n",
    "import game\n",
    "import copy\n",
    "from logic2048 import *"
   ]
  },
  {
   "cell_type": "code",
   "execution_count": 92,
   "metadata": {},
   "outputs": [],
   "source": [
    "def Reflection(board, simulations):\n",
    "  tot = [0, 0, 0, 0]\n",
    "  chk = CheckAvailableMove(board)\n",
    "  mv = [i for i in range(4) if chk[i] == True]\n",
    "  if len(mv) == 0:\n",
    "    return -1\n",
    "  for i in range(simulations):\n",
    "    pick = random.choice(mv)\n",
    "    nxt = copy.deepcopy(board)\n",
    "    OperatingMove(nxt, pick)\n",
    "    SpawnTile(nxt)\n",
    "    while not IsGameOver(nxt):\n",
    "      chk_nxt = CheckAvailableMove(nxt)\n",
    "      mv_nxt = [i for i in range(4) if chk_nxt[i] == True]\n",
    "      pick_nxt = random.choice(mv_nxt)\n",
    "      OperatingMove(nxt, pick_nxt)\n",
    "      SpawnTile(nxt)\n",
    "    tot[pick] += GetScore(nxt)\n",
    "  \n",
    "  mx_res, pick = 0, 0\n",
    "  for move in mv:\n",
    "    if mx_res < tot[move]:\n",
    "      mx_res = tot[move]\n",
    "      pick = move\n",
    "  return pick"
   ]
  },
  {
   "cell_type": "code",
   "execution_count": 93,
   "metadata": {},
   "outputs": [
    {
     "name": "stdout",
     "output_type": "stream",
     "text": [
      "Game ended\n",
      "Game ended\n"
     ]
    },
    {
     "name": "stderr",
     "output_type": "stream",
     "text": [
      "Exception in thread Thread-17:\n",
      "Traceback (most recent call last):\n",
      "  File \"/usr/lib/python3.10/threading.py\", line 1016, in _bootstrap_inner\n",
      "    self.run()\n",
      "  File \"/home/sekiro/uet/2048-challenger/game.py\", line 76, in run\n",
      "    self.__function()\n",
      "  File \"/home/sekiro/uet/2048-challenger/game.py\", line 124, in __get_buffer\n",
      "    new_data = self.__sock.recv(SOCKET_BUFFER_SIZE).decode()\n",
      "ConnectionResetError: [Errno 104] Connection reset by peer\n"
     ]
    },
    {
     "ename": "TimeoutError",
     "evalue": "Unable to retrieve any data after waiting for 10.0s. Have you made any move?",
     "output_type": "error",
     "traceback": [
      "\u001b[0;31m---------------------------------------------------------------------------\u001b[0m",
      "\u001b[0;31mTimeoutError\u001b[0m                              Traceback (most recent call last)",
      "\u001b[1;32m/home/sekiro/uet/2048-challenger/solver.ipynb Cell 4\u001b[0m in \u001b[0;36m<cell line: 6>\u001b[0;34m()\u001b[0m\n\u001b[1;32m      <a href='vscode-notebook-cell://wsl%2Bkali-linux/home/sekiro/uet/2048-challenger/solver.ipynb#W3sdnNjb2RlLXJlbW90ZQ%3D%3D?line=3'>4</a>\u001b[0m client \u001b[39m=\u001b[39m game\u001b[39m.\u001b[39mClient(account, quiz)\n\u001b[1;32m      <a href='vscode-notebook-cell://wsl%2Bkali-linux/home/sekiro/uet/2048-challenger/solver.ipynb#W3sdnNjb2RlLXJlbW90ZQ%3D%3D?line=5'>6</a>\u001b[0m \u001b[39mwhile\u001b[39;00m client\u001b[39m.\u001b[39mplaying:\n\u001b[0;32m----> <a href='vscode-notebook-cell://wsl%2Bkali-linux/home/sekiro/uet/2048-challenger/solver.ipynb#W3sdnNjb2RlLXJlbW90ZQ%3D%3D?line=6'>7</a>\u001b[0m     data \u001b[39m=\u001b[39m client\u001b[39m.\u001b[39;49mget_state()\n\u001b[1;32m      <a href='vscode-notebook-cell://wsl%2Bkali-linux/home/sekiro/uet/2048-challenger/solver.ipynb#W3sdnNjb2RlLXJlbW90ZQ%3D%3D?line=7'>8</a>\u001b[0m     \u001b[39mif\u001b[39;00m \u001b[39misinstance\u001b[39m(data, game\u001b[39m.\u001b[39mBoard):\n\u001b[1;32m      <a href='vscode-notebook-cell://wsl%2Bkali-linux/home/sekiro/uet/2048-challenger/solver.ipynb#W3sdnNjb2RlLXJlbW90ZQ%3D%3D?line=8'>9</a>\u001b[0m         client\u001b[39m.\u001b[39mmake_move(game\u001b[39m.\u001b[39mMOVES[Reflection(data\u001b[39m.\u001b[39mboard, \u001b[39m1000\u001b[39m)])\n",
      "File \u001b[0;32m~/uet/2048-challenger/game.py:177\u001b[0m, in \u001b[0;36mClient.get_state\u001b[0;34m(self)\u001b[0m\n\u001b[1;32m    175\u001b[0m             sleep(DEFAULT_SLEEP)\n\u001b[1;32m    176\u001b[0m         \u001b[39melse\u001b[39;00m:\n\u001b[0;32m--> 177\u001b[0m             \u001b[39mraise\u001b[39;00m \u001b[39mTimeoutError\u001b[39;00m(\n\u001b[1;32m    178\u001b[0m                 \u001b[39mf\u001b[39m\u001b[39m\"\u001b[39m\u001b[39mUnable to retrieve any data after \u001b[39m\u001b[39m\\\u001b[39;00m\n\u001b[1;32m    179\u001b[0m \u001b[39mwaiting for \u001b[39m\u001b[39m{\u001b[39;00msteps\u001b[39m*\u001b[39mDEFAULT_SLEEP\u001b[39m}\u001b[39;00m\u001b[39ms. Have you made any move?\u001b[39m\u001b[39m\"\u001b[39m)\n\u001b[1;32m    180\u001b[0m         \u001b[39mif\u001b[39;00m \u001b[39mself\u001b[39m\u001b[39m.\u001b[39mwarn \u001b[39mand\u001b[39;00m \u001b[39mlen\u001b[39m(\u001b[39mself\u001b[39m\u001b[39m.\u001b[39m__buffer) \u001b[39m>\u001b[39m\u001b[39m=\u001b[39m \u001b[39m2\u001b[39m:\n\u001b[1;32m    181\u001b[0m             \u001b[39mif\u001b[39;00m \u001b[39misinstance\u001b[39m(\u001b[39mself\u001b[39m\u001b[39m.\u001b[39m__buffer[\u001b[39m0\u001b[39m], Board) \u001b[39mand\u001b[39;00m \u001b[39misinstance\u001b[39m(\u001b[39mself\u001b[39m\u001b[39m.\u001b[39m__buffer[\u001b[39m1\u001b[39m], Board):\n",
      "\u001b[0;31mTimeoutError\u001b[0m: Unable to retrieve any data after waiting for 10.0s. Have you made any move?"
     ]
    }
   ],
   "source": [
    "account = \"ayakain5rolls\"\n",
    "quiz = 1\n",
    "\n",
    "client = game.Client(account, quiz)\n",
    "\n",
    "while client.playing:\n",
    "    data = client.get_state()\n",
    "    if isinstance(data, game.Board):\n",
    "        client.make_move(game.MOVES[Reflection(data.board, 1000)])\n",
    "    elif isinstance(data, game.Game):\n",
    "        print(\"Game ended\")\n",
    "    elif isinstance(data, game.Result):\n",
    "        print(\"Session ended\")\n",
    "        break"
   ]
  }
 ],
 "metadata": {
  "kernelspec": {
   "display_name": "Python 3.10.5 ('.venv': venv)",
   "language": "python",
   "name": "python3"
  },
  "language_info": {
   "codemirror_mode": {
    "name": "ipython",
    "version": 3
   },
   "file_extension": ".py",
   "mimetype": "text/x-python",
   "name": "python",
   "nbconvert_exporter": "python",
   "pygments_lexer": "ipython3",
   "version": "3.10.5"
  },
  "orig_nbformat": 4,
  "vscode": {
   "interpreter": {
    "hash": "b0ba9a0cb947a13052b09b452ec66c165263721e214f366891ea3fb632082841"
   }
  }
 },
 "nbformat": 4,
 "nbformat_minor": 2
}
