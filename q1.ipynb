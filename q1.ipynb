{
 "cells": [
  {
   "cell_type": "markdown",
   "metadata": {},
   "source": [
    "# [2048 Challenge - Quiz 1](http://112.137.129.136:8000/problem_view?problem=1)"
   ]
  },
  {
   "cell_type": "code",
   "execution_count": 5,
   "metadata": {},
   "outputs": [
    {
     "name": "stdout",
     "output_type": "stream",
     "text": [
      "Game ended\n",
      "Game ended\n",
      "Game ended\n",
      "Game ended\n",
      "Game ended\n",
      "Session ended\n"
     ]
    }
   ],
   "source": [
    "import random\n",
    "import game\n",
    "account = 'ayakain5rolls'\n",
    "quiz = 1\n",
    "\n",
    "client = game.Client(account, quiz)\n",
    "# Code chi choi 1 game.\n",
    "# De choi duoc nhieu game, can phai kiem tra xem\n",
    "# bang hien tai co phai ket thuc khong\n",
    "while client.playing:\n",
    "    data = client.get_state()\n",
    "    if isinstance(data, game.Board):\n",
    "        # Lay mot move bat ky\n",
    "        move = game.MOVES[random.randint(0, 3)]\n",
    "        # Make move\n",
    "        client.make_move(move)\n",
    "    elif isinstance(data, game.Game):\n",
    "        # Mot game da ket thuc\n",
    "        print(\"Game ended\")\n",
    "    elif isinstance(data, game.Result):\n",
    "        # Tro choi da ket thuc\n",
    "        print(\"Session ended\")\n",
    "        break\n"
   ]
  }
 ],
 "metadata": {
  "kernelspec": {
   "display_name": "Python 3.10.5 64-bit",
   "language": "python",
   "name": "python3"
  },
  "language_info": {
   "codemirror_mode": {
    "name": "ipython",
    "version": 3
   },
   "file_extension": ".py",
   "mimetype": "text/x-python",
   "name": "python",
   "nbconvert_exporter": "python",
   "pygments_lexer": "ipython3",
   "version": "3.10.5"
  },
  "orig_nbformat": 4,
  "vscode": {
   "interpreter": {
    "hash": "916dbcbb3f70747c44a77c7bcd40155683ae19c65e1c03b4aa3499c5328201f1"
   }
  }
 },
 "nbformat": 4,
 "nbformat_minor": 2
}
